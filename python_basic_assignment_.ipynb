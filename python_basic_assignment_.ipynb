{
  "nbformat": 4,
  "nbformat_minor": 0,
  "metadata": {
    "colab": {
      "provenance": []
    },
    "kernelspec": {
      "name": "python3",
      "display_name": "Python 3"
    },
    "language_info": {
      "name": "python"
    }
  },
  "cells": [
    {
      "cell_type": "markdown",
      "source": [
        "#PYTHON BASICS\n"
      ],
      "metadata": {
        "id": "UW0PClqVakqL"
      }
    },
    {
      "cell_type": "markdown",
      "source": [
        "1.what is python,why is it popular\n",
        "*  Python is a high-level, interpreted, and general-purpose programming language known for its simplicity and readability. It was created by Guido van Rossum and first released in 1991. Python is designed to be easy to understand and use, which makes it an ideal language for beginners while being powerful enough for experts.It is widely used for a variety of applications, such as web development, data analysis, artificial intelligence, machine learning, automation, and more.\n",
        "*  Readable Syntax: Python’s syntax is clear and easy to read, which makes it accessible for beginners. Unlike many other languages, Python uses indentation instead of braces to define code blocks, which makes the code visually easy to follow.\n",
        "\n",
        "*  Python is a general-purpose language, meaning it can be used for a wide range of applications, including:web development, data science, data analytics,machine learning ,automation and software development.\n",
        "\n",
        "*  Third-party libraries make it an attractive language for solving real-world problems across various industries.\n",
        "\n",
        "*   Python is a cross-platform language, meaning that Python programs can run on various operating systems (Windows, macOS, Linux) without modification. This makes it ideal for developers who want to write software that works on different platforms.\n",
        "*   Python is open-source, meaning it's free to use, distribute, and modify. The open-source nature of Python has encouraged widespread adoption and development by individuals and organizations.\n",
        "\n",
        "2. What is an interpreter in Python?\n",
        "\n",
        "*   An interpreter is a type of program that executes instructions written in a programming language directly, rather than compiling them into machine code (which is the case in compiled languages like C or C++). In the context of Python, the Python interpreter executes Python code line by line, interpreting each statement and running it in real-time.\n",
        "\n",
        "*   Python is an interpreted language, which means that Python code is not directly compiled into machine-level code. Instead, the Python interpreter reads the source code, interprets it, and executes the instructions on the fly.\n",
        "\n",
        "*   The interpreter makes Python easier to use and debug since it executes code line by line and provides descriptive error messages when something goes wrong.\n",
        "\n",
        "*   While interpreted languages like Python tend to have slower execution compared to compiled languages, the flexibility, ease of learning, and readability of Python make it a very popular language for a wide variety of applications.\n",
        "\n",
        "3.What are pre-defined keywords in Python?\n",
        "\n",
        "*   In Python, keywords are reserved words that have a special meaning in the language's syntax. These keywords cannot be used as identifiers (variable names, function names, class names, etc.) because they are part of the language's syntax. Each keyword performs a specific function and is integral to the operation of Python.\n",
        "\n",
        "   As of Python 3.10, there are 35 predefined keywords. These keywords are part of the core Python language, and their meanings cannot be changed.\n",
        "*   Here is the list of all Python keywords:\n",
        "False,\n",
        "None,\n",
        "True,\n",
        "and,\n",
        "as,\n",
        "assert,\n",
        "async,\n",
        "await,\n",
        "break,\n",
        "class,\n",
        "continue,\n",
        "def,\n",
        "del,\n",
        "elif,\n",
        "else,\n",
        "except,\n",
        "finally,\n",
        "for,\n",
        "from,\n",
        "global,\n",
        "if,\n",
        "import,\n",
        "in,\n",
        "is,\n",
        "lambda,\n",
        "nonlocal,\n",
        "not,\n",
        "or,\n",
        "pass,\n",
        "raise,\n",
        "return,\n",
        "try,\n",
        "while,\n",
        "with,\n",
        "yield.\n",
        "\n",
        "4.Can keywords be used as variable names?\n",
        "\n",
        "*   No, keywords in Python cannot be used as variable names or identifiers. Keywords are reserved by the Python language for specific syntactic purposes, and their use as variables would conflict with the language's syntax and cause errors.\n",
        "*   In Python, keywords are integral to the language's structure and semantics. They define control flow, data types, and various other aspects of the language. For example, if, while, for, return, and def are keywords used to define control structures and functions. If you used these as variable names, Python wouldn't be able to distinguish between your variable and the intended functionality of the keyword, leading to errors.\n",
        "\n",
        "5.What is mutability in Python?\n",
        "\n",
        "*   Mutability in Python refers to an object's ability to be changed after it has been created. In other words, mutable objects can have their content altered, while immutable objects cannot.\n",
        "*   Mutable objects can be modified after their creation, meaning their state or contents can change.\n",
        "\n",
        "6.Why are lists mutable, but tuples are immutable?\n",
        "\n",
        "*   Lists in Python are mutable because they are designed for dynamic, flexible data management, allowing modifications such as adding, removing, or changing elements directly. This makes them suitable for use cases where the data evolves over time. Tuples, on the other hand, are immutable because they are intended to represent fixed collections of items that should not change after creation, ensuring data integrity and consistency. This immutability allows tuples to be more memory-efficient and hashable, enabling their use as keys in dictionaries or elements in sets. The contrasting mutability of these data structures reflects their design goals: lists for flexibility and modification, and tuples for stability and fixed data representation.\n",
        "\n",
        "7.What is the difference between “==” and “is” operators in Python?\n",
        "*   The == operator checks for value equality, meaning it compares the content of two objects to see if they are the same. The is operator checks for object identity, meaning it determines if two variables reference the exact same object in memory.\n",
        "\n",
        "*   Use == to test whether the values of two objects are equivalent, regardless of their memory location. Use is to test whether two variables point to the same memory location. For example, two lists with the same elements may be equal (==) but not identical (is).\n",
        "\n",
        "8.What are logical operators in Python?\n",
        "*   Logical operators in Python are used to combine, modify, or invert boolean expressions, helping to evaluate multiple conditions in a single statement.\n",
        "\n",
        "*   Types of Logical Operators:\n",
        "\n",
        "      and: Returns True if both conditions are True.\n",
        "\n",
        "      or: Returns True if at least one condition is True.\n",
        "\n",
        "      not: Reverses the truth value of a condition.\n",
        "*   Logical operators are primarily used in conditional statements like if, while, and assert, allowing more complex logical expressions to be evaluated.\n",
        "\n",
        "9.What is type casting in Python?\n",
        "\n",
        "*   Type casting in Python is the process of converting a value from one data type to another. This is done either explicitly by the programmer (explicit type casting) or implicitly by Python (implicit type casting) during operations.\n",
        "*   Explicit Type Casting: Performed manually using built-in functions like int(), float(), str(), or list().\n",
        "\n",
        "*   Implicit Type Casting: Done automatically by Python when combining compatible types\n",
        "*   Type casting is used to ensure compatibility between data types during operations, enhance code flexibility, and control how data is interpreted or processed by Python programs.\n",
        "\n",
        "10.What is the difference between implicit and explicit type casting?\n",
        "*   Implicit and explicit type casting are two ways to convert data from one type to another in Python, differing in who initiates the conversion. Implicit type casting (type coercion) is handled automatically by Python during operations when it is safe to do so. For example, when combining an integer and a float in an arithmetic operation, Python automatically converts the integer to a float to prevent data loss, ensuring the operation executes seamlessly. This automatic behavior makes implicit type casting convenient and minimizes coding effort, but it is limited to safe and predictable conversions.\n",
        "*   Explicit type casting, on the other hand, requires the programmer to explicitly define the type conversion using built-in functions like int(), float(), str(), or list(). This is useful when working with types that Python would not automatically convert or when precision and control are necessary. For example, converting a string \"123\" into an integer using int(\"123\") is explicit type casting because Python cannot assume all strings are convertible. While explicit casting gives the programmer greater control over the conversion process, improper use can lead to errors or exceptions if the conversion is not valid (e.g., int(\"abc\") would raise a ValueError).\n",
        "\n",
        "11.What is the purpose of conditional statements in Python?\n",
        "\n",
        "*   Decision-Making:\n",
        "The primary purpose of conditional statements in Python is to enable decision-making in code. They allow the program to execute different blocks of code based on whether a certain condition is True or False.\n",
        "\n",
        "*   Flow Control:\n",
        "Conditional statements control the flow of the program by determining which part of the code should run depending on specific conditions. This helps in making the program behave differently in different situations.\n",
        "*   Handling Multiple Conditions:\n",
        "Python’s if, elif, and else statements allow you to handle multiple conditions and specify alternative actions. This is useful for more complex decision-making processes.\n",
        "\n",
        "\n",
        "*  Code Optimization:\n",
        "Conditional statements optimize the execution of the program by allowing certain parts of the code to execute only when necessary, thereby improving efficiency and avoiding unnecessary computations.\n",
        "\n",
        "*   Error Handling and Validation:\n",
        "Conditional statements are often used to validate inputs or check for errors. For example, ensuring a user input is valid or handling different cases of exceptions in the program's logic.\n",
        "\n",
        "12.How does the elif statement work?\n",
        "*   Sequential Evaluation:\n",
        "The elif statement allows you to check multiple conditions in a sequence after an initial if statement. Python evaluates each condition in order and executes the code block of the first True condition it encounters.\n",
        "\n",
        "*   if Condition First:\n",
        "The if statement is evaluated first. If its condition is True, its code block runs, and the rest of the elif or else statements are skipped. If the if condition is False, Python moves on to the next elif statement.\n",
        "*   Multiple elif Conditions:\n",
        "You can use multiple elif conditions to check for different possibilities. Python checks each elif condition in order, stopping when one evaluates to True. This allows for more than two conditions to be tested.\n",
        "\n",
        "*   Final else Block:\n",
        "If none of the if or elif conditions are True, the optional else block will execute. This provides a default action when all prior conditions fail.\n",
        "*   Efficiency:\n",
        "The elif statement improves the efficiency of conditional checks by allowing only one block of code to execute, as Python stops checking further conditions once a True condition is found. This prevents unnecessary evaluations.\n",
        "\n",
        "13.What is the difference between for and while loops?\n",
        "\n",
        "*   Control Structure:\n",
        "\n",
        "     for loop: Used when you know beforehand how many times you want to iterate over a sequence (like a list, tuple, string, or range).\n",
        "\n",
        "     while loop: Used when you want to repeat a block of code as long as a condition remains True, and you may not know the exact number of iterations ahead of time.\n",
        "*   Iteration Based on Sequence vs. Condition:\n",
        "\n",
        "     for loop: Iterates over a sequence or iterable object. It automatically takes each element of the sequence one by one and executes the code block.\n",
        "\n",
        "     while loop: Continues looping as long as a specified condition is True. You need to manually control the condition and ensure it will eventually become False to avoid infinite loops.\n",
        "\n",
        "*   Loop Termination:\n",
        "\n",
        "     for loop: Terminates automatically when the iterable sequence is exhausted (all elements are processed).\n",
        "\n",
        "     while loop: Terminates when the condition evaluates to False. If the condition is never updated to False, the loop may run indefinitely (infinite loop).\n",
        "*   Use Case:\n",
        "\n",
        "     for loop: Ideal for scenarios where you need to iterate over a collection (like a list or string) or a specific number of iterations (using range()).\n",
        "\n",
        "     while loop: Best suited for situations where the number of iterations is unknown and depends on a dynamic condition (e.g., user input or a status check).\n",
        "\n",
        "*   Performance:\n",
        "\n",
        "     for loop: Generally more efficient when iterating over sequences, as it is optimized to work with iterables and does not require manual condition handling.\n",
        "\n",
        "     while loop: Can be less efficient if the loop condition is complex or if there's no guarantee it will eventually become False, which could lead to infinite iterations.\n",
        "*   Flexibility:\n",
        "\n",
        "     for loop: More rigid since it works specifically with iterables or ranges, making it less flexible when the termination condition depends on other factors.\n",
        "     \n",
        "     while loop: Offers more flexibility since it can handle any condition that is evaluated in the loop’s condition, allowing you to control when and how the loop exits.\n",
        "\n",
        "14.Describe a scenario where a while loop is more suitable than a for loop.\n",
        "\n",
        "*   Scenario: User Input Validation\n",
        "Imagine a scenario where you need to repeatedly ask a user for their age until they provide a valid input (i.e., a positive integer). In this case, you don't know how many attempts the user will need to give the correct input, and you want to keep asking until the condition is met.\n",
        "*   Here, the loop continues asking the user for input until a valid age (greater than 0) is entered. The number of iterations is unknown, as it depends on the user's input.\n",
        "\n",
        "*   A while loop is appropriate because it keeps checking the condition (age <= 0) and only stops when the condition is no longer True. A for loop would be inappropriate in this case because you can't predict how many times the user will need to try before providing valid input.\n",
        "\n",
        "\n",
        "\n",
        "\n",
        "\n",
        "\n",
        "\n",
        "\n",
        "\n",
        "\n",
        "\n",
        "\n",
        "\n",
        "\n",
        "\n",
        "\n",
        "\n",
        "\n",
        "\n",
        "\n",
        "\n",
        "\n",
        "\n",
        "\n",
        "\n",
        "\n",
        "\n",
        "\n",
        "\n",
        "\n",
        "\n",
        "\n",
        "\n",
        "\n",
        "\n",
        "\n",
        "\n",
        "\n",
        "\n",
        "\n",
        "\n",
        "\n",
        "\n",
        "\n",
        "\n",
        "\n",
        "\n",
        "\n",
        "\n",
        "\n",
        "\n",
        "\n",
        "\n",
        "\n",
        "\n",
        "\n",
        "\n",
        "\n"
      ],
      "metadata": {
        "id": "C6bM4mBCbV6z"
      }
    },
    {
      "cell_type": "markdown",
      "source": [
        "#PRACTICALS\n"
      ],
      "metadata": {
        "id": "BDHOT9jApn16"
      }
    },
    {
      "cell_type": "code",
      "source": [
        "#Q.1: Write a Python program to print \"Hello, World!_\n",
        "print(\"Hello, World!\")"
      ],
      "metadata": {
        "colab": {
          "base_uri": "https://localhost:8080/"
        },
        "id": "UYlvW7qopsnd",
        "outputId": "a3157413-2181-4664-9927-be2d0c20bd98"
      },
      "execution_count": null,
      "outputs": [
        {
          "output_type": "stream",
          "name": "stdout",
          "text": [
            "Hello, World!\n"
          ]
        }
      ]
    },
    {
      "cell_type": "code",
      "source": [
        "#Q.2: Write a Python program that displays your name and age\n",
        "print(\"Name= valligiri chaturya\")\n",
        "print(\"Age=20\")"
      ],
      "metadata": {
        "colab": {
          "base_uri": "https://localhost:8080/"
        },
        "id": "SpHmrSQIpj2n",
        "outputId": "c1dec215-c689-4b52-bde7-180d7a353f2e"
      },
      "execution_count": null,
      "outputs": [
        {
          "output_type": "stream",
          "name": "stdout",
          "text": [
            "Name= valligiri chaturya\n",
            "Age=20\n"
          ]
        }
      ]
    },
    {
      "cell_type": "code",
      "source": [
        "#Q.3:Write code to print all the pre-defined keywords in Python using the keyword library\n",
        "import keyword\n",
        "\n",
        "# Print all the keywords in Python\n",
        "print(keyword.kwlist)\n"
      ],
      "metadata": {
        "colab": {
          "base_uri": "https://localhost:8080/"
        },
        "id": "1ILmHxgjqwfM",
        "outputId": "d0f5c680-e8f8-457e-f856-daa63428922c"
      },
      "execution_count": null,
      "outputs": [
        {
          "output_type": "stream",
          "name": "stdout",
          "text": [
            "['False', 'None', 'True', 'and', 'as', 'assert', 'async', 'await', 'break', 'class', 'continue', 'def', 'del', 'elif', 'else', 'except', 'finally', 'for', 'from', 'global', 'if', 'import', 'in', 'is', 'lambda', 'nonlocal', 'not', 'or', 'pass', 'raise', 'return', 'try', 'while', 'with', 'yield']\n"
          ]
        }
      ]
    },
    {
      "cell_type": "code",
      "source": [
        "#Q.4: Write a program that checks if a given word is a Python keyword\n",
        "import keyword\n",
        "print(keyword.iskeyword(\"hello\"))\n",
        "print(keyword.iskeyword(\"break\"))\n",
        "\n"
      ],
      "metadata": {
        "colab": {
          "base_uri": "https://localhost:8080/"
        },
        "id": "gLRN8yhur5EJ",
        "outputId": "2f311361-15ba-45c5-ed2d-923d5295165b"
      },
      "execution_count": 1,
      "outputs": [
        {
          "output_type": "stream",
          "name": "stdout",
          "text": [
            "False\n",
            "True\n"
          ]
        }
      ]
    },
    {
      "cell_type": "code",
      "source": [
        "#Q.5: Create a list and tuple in Python, and demonstrate how attempting to change an element works differently\n",
        "#for each\n",
        "#for list\n",
        "\n",
        "dish=[\"fry\",70,\"gravey\",85,\"potato\",100]\n",
        "dish[4]=\"biryani\"\n",
        "print(dish)\n",
        "\n",
        "#for tuple\n",
        "dish=(\"fry\",70,\"gravey\",85,\"potato\",100)\n",
        "dish[4]=\"biryani\"\n",
        "print(dish)\n",
        "\n",
        "#by above we can see that list can be modified and tuple cannot be modified\n",
        "\n"
      ],
      "metadata": {
        "id": "76dA22Ajsd80",
        "colab": {
          "base_uri": "https://localhost:8080/",
          "height": 228
        },
        "outputId": "6b4116fc-9342-4053-da00-7ca7f5dd670e"
      },
      "execution_count": 3,
      "outputs": [
        {
          "output_type": "stream",
          "name": "stdout",
          "text": [
            "['fry', 70, 'gravey', 85, 'biryani', 100]\n"
          ]
        },
        {
          "output_type": "error",
          "ename": "TypeError",
          "evalue": "'tuple' object does not support item assignment",
          "traceback": [
            "\u001b[0;31m---------------------------------------------------------------------------\u001b[0m",
            "\u001b[0;31mTypeError\u001b[0m                                 Traceback (most recent call last)",
            "\u001b[0;32m<ipython-input-3-d07f6c2efb45>\u001b[0m in \u001b[0;36m<cell line: 11>\u001b[0;34m()\u001b[0m\n\u001b[1;32m      9\u001b[0m \u001b[0;31m#for tuple\u001b[0m\u001b[0;34m\u001b[0m\u001b[0;34m\u001b[0m\u001b[0m\n\u001b[1;32m     10\u001b[0m \u001b[0mdish\u001b[0m\u001b[0;34m=\u001b[0m\u001b[0;34m(\u001b[0m\u001b[0;34m\"fry\"\u001b[0m\u001b[0;34m,\u001b[0m\u001b[0;36m70\u001b[0m\u001b[0;34m,\u001b[0m\u001b[0;34m\"gravey\"\u001b[0m\u001b[0;34m,\u001b[0m\u001b[0;36m85\u001b[0m\u001b[0;34m,\u001b[0m\u001b[0;34m\"potato\"\u001b[0m\u001b[0;34m,\u001b[0m\u001b[0;36m100\u001b[0m\u001b[0;34m)\u001b[0m\u001b[0;34m\u001b[0m\u001b[0;34m\u001b[0m\u001b[0m\n\u001b[0;32m---> 11\u001b[0;31m \u001b[0mdish\u001b[0m\u001b[0;34m[\u001b[0m\u001b[0;36m4\u001b[0m\u001b[0;34m]\u001b[0m\u001b[0;34m=\u001b[0m\u001b[0;34m\"biryani\"\u001b[0m\u001b[0;34m\u001b[0m\u001b[0;34m\u001b[0m\u001b[0m\n\u001b[0m\u001b[1;32m     12\u001b[0m \u001b[0mprint\u001b[0m\u001b[0;34m(\u001b[0m\u001b[0mdish\u001b[0m\u001b[0;34m)\u001b[0m\u001b[0;34m\u001b[0m\u001b[0;34m\u001b[0m\u001b[0m\n\u001b[1;32m     13\u001b[0m \u001b[0;34m\u001b[0m\u001b[0m\n",
            "\u001b[0;31mTypeError\u001b[0m: 'tuple' object does not support item assignment"
          ]
        }
      ]
    },
    {
      "cell_type": "code",
      "source": [
        "#Q.6: write a function to demonstrate the behaviour of mutable and immutable arguments .\n",
        "#strings are immutable\n",
        "name=\"chaturya\"\n",
        "name[1]= 'm'\n",
        "print(name)\n",
        "\n",
        "#tuples are immutable\n",
        "tuple1=(0, 1, 2, 3)\n",
        "tuple1[0] = 4\n",
        "print(tuple1)\n",
        "\n",
        "#lists are mutable\n",
        "list1 = [1, 2, 3, 4]\n",
        "list1[0] = 0\n",
        "print(list1)\n"
      ],
      "metadata": {
        "colab": {
          "base_uri": "https://localhost:8080/",
          "height": 211
        },
        "id": "ZFrShDVxEUDY",
        "outputId": "854aa830-866d-49d5-d231-05b89a3f6535"
      },
      "execution_count": 7,
      "outputs": [
        {
          "output_type": "error",
          "ename": "TypeError",
          "evalue": "'tuple' object does not support item assignment",
          "traceback": [
            "\u001b[0;31m---------------------------------------------------------------------------\u001b[0m",
            "\u001b[0;31mTypeError\u001b[0m                                 Traceback (most recent call last)",
            "\u001b[0;32m<ipython-input-7-d01536474435>\u001b[0m in \u001b[0;36m<cell line: 9>\u001b[0;34m()\u001b[0m\n\u001b[1;32m      7\u001b[0m \u001b[0;31m#tuples are immutable\u001b[0m\u001b[0;34m\u001b[0m\u001b[0;34m\u001b[0m\u001b[0m\n\u001b[1;32m      8\u001b[0m \u001b[0mtuple1\u001b[0m\u001b[0;34m=\u001b[0m\u001b[0;34m(\u001b[0m\u001b[0;36m0\u001b[0m\u001b[0;34m,\u001b[0m \u001b[0;36m1\u001b[0m\u001b[0;34m,\u001b[0m \u001b[0;36m2\u001b[0m\u001b[0;34m,\u001b[0m \u001b[0;36m3\u001b[0m\u001b[0;34m)\u001b[0m\u001b[0;34m\u001b[0m\u001b[0;34m\u001b[0m\u001b[0m\n\u001b[0;32m----> 9\u001b[0;31m \u001b[0mtuple1\u001b[0m\u001b[0;34m[\u001b[0m\u001b[0;36m0\u001b[0m\u001b[0;34m]\u001b[0m \u001b[0;34m=\u001b[0m \u001b[0;36m4\u001b[0m\u001b[0;34m\u001b[0m\u001b[0;34m\u001b[0m\u001b[0m\n\u001b[0m\u001b[1;32m     10\u001b[0m \u001b[0mprint\u001b[0m\u001b[0;34m(\u001b[0m\u001b[0mtuple1\u001b[0m\u001b[0;34m)\u001b[0m\u001b[0;34m\u001b[0m\u001b[0;34m\u001b[0m\u001b[0m\n\u001b[1;32m     11\u001b[0m \u001b[0;34m\u001b[0m\u001b[0m\n",
            "\u001b[0;31mTypeError\u001b[0m: 'tuple' object does not support item assignment"
          ]
        }
      ]
    },
    {
      "cell_type": "code",
      "source": [
        "#Q.7: write a function to demonstrate the behaviour of mutable and immutable arguments .\n",
        "#strings are immutable\n",
        "name=\"chaturya\"\n",
        "name[1]= 'm'\n",
        "print(name)\n",
        "\n",
        "#tuples are immutable\n",
        "tuple1=(0, 1, 2, 3)\n",
        "tuple1[0] = 4\n",
        "print(tuple1)\n",
        "\n",
        "#lists are mutable\n",
        "list1 = [1, 2, 3, 4]\n",
        "list1[0] = 0\n",
        "print(list1)"
      ],
      "metadata": {
        "colab": {
          "base_uri": "https://localhost:8080/",
          "height": 211
        },
        "id": "oakIfrmRIfe-",
        "outputId": "0deeb6c3-81df-4116-d243-2b1dc7aae11e"
      },
      "execution_count": 11,
      "outputs": [
        {
          "output_type": "error",
          "ename": "TypeError",
          "evalue": "'tuple' object does not support item assignment",
          "traceback": [
            "\u001b[0;31m---------------------------------------------------------------------------\u001b[0m",
            "\u001b[0;31mTypeError\u001b[0m                                 Traceback (most recent call last)",
            "\u001b[0;32m<ipython-input-11-123e292e3a2b>\u001b[0m in \u001b[0;36m<cell line: 9>\u001b[0;34m()\u001b[0m\n\u001b[1;32m      7\u001b[0m \u001b[0;31m#tuples are immutable\u001b[0m\u001b[0;34m\u001b[0m\u001b[0;34m\u001b[0m\u001b[0m\n\u001b[1;32m      8\u001b[0m \u001b[0mtuple1\u001b[0m\u001b[0;34m=\u001b[0m\u001b[0;34m(\u001b[0m\u001b[0;36m0\u001b[0m\u001b[0;34m,\u001b[0m \u001b[0;36m1\u001b[0m\u001b[0;34m,\u001b[0m \u001b[0;36m2\u001b[0m\u001b[0;34m,\u001b[0m \u001b[0;36m3\u001b[0m\u001b[0;34m)\u001b[0m\u001b[0;34m\u001b[0m\u001b[0;34m\u001b[0m\u001b[0m\n\u001b[0;32m----> 9\u001b[0;31m \u001b[0mtuple1\u001b[0m\u001b[0;34m[\u001b[0m\u001b[0;36m0\u001b[0m\u001b[0;34m]\u001b[0m \u001b[0;34m=\u001b[0m \u001b[0;36m4\u001b[0m\u001b[0;34m\u001b[0m\u001b[0;34m\u001b[0m\u001b[0m\n\u001b[0m\u001b[1;32m     10\u001b[0m \u001b[0mprint\u001b[0m\u001b[0;34m(\u001b[0m\u001b[0mtuple1\u001b[0m\u001b[0;34m)\u001b[0m\u001b[0;34m\u001b[0m\u001b[0;34m\u001b[0m\u001b[0m\n\u001b[1;32m     11\u001b[0m \u001b[0;34m\u001b[0m\u001b[0m\n",
            "\u001b[0;31mTypeError\u001b[0m: 'tuple' object does not support item assignment"
          ]
        }
      ]
    },
    {
      "cell_type": "code",
      "source": [
        "#Q.8: write a program to demonstratethe use of logical operator\n",
        "#AND operators\n",
        "temperature = 25\n",
        "is_sunny = True\n",
        "temperature > 20 and is_sunny\n",
        "\n",
        "#OR operators\n",
        "is_sunny = True\n",
        "has_umbrella = False\n",
        "is_sunny or has_umbrella\n",
        "\n",
        "#NOT operators\n",
        "is_raining = True\n",
        "if not is_raining :\n",
        "    pass #or some other statement"
      ],
      "metadata": {
        "id": "GCadtLkAIuYK"
      },
      "execution_count": null,
      "outputs": []
    },
    {
      "cell_type": "code",
      "source": [
        "#Q.9 : Write a Python program to convert user input from string to integer, float, and boolean types.\n",
        "\n",
        "age = input(print(\"enter your age = \"))\n",
        "age = int(age)\n",
        "print (type(age))\n",
        "\n",
        "age = input(print(\"enter your age = \"))\n",
        "age = float(age)\n",
        "print (type(age))\n",
        "\n",
        "age = input(print(\"enter your age = \"))\n",
        "age = bool(age)\n",
        "print (type(age))\n"
      ],
      "metadata": {
        "colab": {
          "base_uri": "https://localhost:8080/"
        },
        "id": "47H1y81wFsIM",
        "outputId": "fad03db3-754f-46e9-a342-8fc92d064d64"
      },
      "execution_count": 8,
      "outputs": [
        {
          "output_type": "stream",
          "name": "stdout",
          "text": [
            "enter your age = \n",
            "None85\n",
            "<class 'int'>\n",
            "enter your age = \n",
            "None85\n",
            "<class 'float'>\n",
            "enter your age = \n",
            "None85\n",
            "<class 'bool'>\n"
          ]
        }
      ]
    },
    {
      "cell_type": "code",
      "source": [
        "#Q.10 : Write code to demonstrate type casting with list elements.\n",
        "\n",
        "def cast_list(test_list, data_type):\n",
        "    return list(map(data_type, test_list))\n",
        "\n",
        "# initialize list\n",
        "test_list = [1, 4, 9, 56, 5]\n",
        "\n",
        "# printing original list\n",
        "print(\"The original list is : \" + str(test_list))\n",
        "\n",
        "# Type casting whole List and Matrix\n",
        "# using map() + list comprehension\n",
        "res_list = cast_list(test_list, str)"
      ],
      "metadata": {
        "colab": {
          "base_uri": "https://localhost:8080/"
        },
        "id": "SPt9n7iiHYtK",
        "outputId": "9104c170-4bef-44a6-9cbb-bcf46cca5aac"
      },
      "execution_count": 9,
      "outputs": [
        {
          "output_type": "stream",
          "name": "stdout",
          "text": [
            "The original list is : [1, 4, 9, 56, 5]\n"
          ]
        }
      ]
    },
    {
      "cell_type": "code",
      "source": [
        "#Q.11 : Write a program that checks if a number is positive, negative, or zero.\n",
        "\n",
        "num = int(input(\"Enter a number: \"))\n",
        "if num > 0:\n",
        "   print(\"Positive number\")\n",
        "elif num == 0:\n",
        "   print(\"Zero\")\n",
        "else:\n",
        "   print(\"Negative number\")"
      ],
      "metadata": {
        "colab": {
          "base_uri": "https://localhost:8080/"
        },
        "id": "P41hunNWHsQ1",
        "outputId": "7292b502-2187-4422-b8ed-67b1c1eb843c"
      },
      "execution_count": 12,
      "outputs": [
        {
          "output_type": "stream",
          "name": "stdout",
          "text": [
            "Enter a number: -53\n",
            "Negative number\n"
          ]
        }
      ]
    },
    {
      "cell_type": "code",
      "source": [
        "#Q.12 :  Write a for loop to print numbers from 1 to 10.\n",
        "\n",
        "for i in range(1,11):\n",
        "    print (i)"
      ],
      "metadata": {
        "colab": {
          "base_uri": "https://localhost:8080/"
        },
        "id": "P6U1aOS8JoEa",
        "outputId": "b317b0fc-360a-47ff-ab68-56f5ea654376"
      },
      "execution_count": 13,
      "outputs": [
        {
          "output_type": "stream",
          "name": "stdout",
          "text": [
            "1\n",
            "2\n",
            "3\n",
            "4\n",
            "5\n",
            "6\n",
            "7\n",
            "8\n",
            "9\n",
            "10\n"
          ]
        }
      ]
    },
    {
      "cell_type": "code",
      "source": [
        "#Q.13 : Write a Python program to find the sum of all even numbers between 1 and 50.\n",
        "\n",
        "sum = 0\n",
        "for i in range(1,51):\n",
        "    if i%2 == 0:\n",
        "        sum = sum + i\n",
        "print (sum)"
      ],
      "metadata": {
        "colab": {
          "base_uri": "https://localhost:8080/"
        },
        "id": "n0w_n04QJwE0",
        "outputId": "74cfa903-6fe9-4957-e37d-97b12e6b4e95"
      },
      "execution_count": 14,
      "outputs": [
        {
          "output_type": "stream",
          "name": "stdout",
          "text": [
            "650\n"
          ]
        }
      ]
    },
    {
      "cell_type": "code",
      "source": [
        "#Q.14 : Write a program to reverse a string using a while loop.\n",
        "\n",
        "s = \"my name is chaturya\"\n",
        "rev = s[::-1]\n",
        "print(rev)"
      ],
      "metadata": {
        "colab": {
          "base_uri": "https://localhost:8080/"
        },
        "id": "jfZvqRkoJ63B",
        "outputId": "53997095-a202-413f-889d-b7d4af67ccf0"
      },
      "execution_count": 15,
      "outputs": [
        {
          "output_type": "stream",
          "name": "stdout",
          "text": [
            "ayrutahc si eman ym\n"
          ]
        }
      ]
    },
    {
      "cell_type": "code",
      "source": [
        "#Q.15 Write a Python program to calculate the factorial of a number provided by the user using a while loop.\n",
        "\n",
        "num = int(input(\"Enter a number: \"))\n",
        "factorial = 1\n",
        "i = 1\n",
        "while i <= num:\n",
        "    factorial = factorial * i\n",
        "    i = i + 1\n",
        "print(factorial)"
      ],
      "metadata": {
        "colab": {
          "base_uri": "https://localhost:8080/"
        },
        "id": "FpUV2rjUKF8e",
        "outputId": "03e6688c-fef9-4097-a080-143a3a5b2a9b"
      },
      "execution_count": 17,
      "outputs": [
        {
          "output_type": "stream",
          "name": "stdout",
          "text": [
            "Enter a number: 5\n",
            "120\n"
          ]
        }
      ]
    },
    {
      "cell_type": "code",
      "source": [],
      "metadata": {
        "id": "0wIyCAxNKQPm"
      },
      "execution_count": 16,
      "outputs": []
    }
  ]
}